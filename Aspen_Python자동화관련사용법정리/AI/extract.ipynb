{
 "cells": [
  {
   "cell_type": "code",
   "execution_count": 1,
   "id": "4c7c6c0e",
   "metadata": {},
   "outputs": [
    {
     "ename": "com_error",
     "evalue": "(-2147352567, '예외가 발생했습니다.', (2041, 'Aspen Plus 37.0 OLE Services', 'Unable to open file.', None, 0, 0), None)",
     "output_type": "error",
     "traceback": [
      "\u001b[1;31m---------------------------------------------------------------------------\u001b[0m",
      "\u001b[1;31mcom_error\u001b[0m                                 Traceback (most recent call last)",
      "Cell \u001b[1;32mIn[1], line 9\u001b[0m\n\u001b[0;32m      7\u001b[0m     aspen\u001b[38;5;241m.\u001b[39mClose(\u001b[38;5;28;01mFalse\u001b[39;00m)\n\u001b[0;32m      8\u001b[0m     \u001b[38;5;28;01mreturn\u001b[39;00m block_names\n\u001b[1;32m----> 9\u001b[0m \u001b[43mextract_block_names\u001b[49m\u001b[43m(\u001b[49m\u001b[38;5;124;43m\"\u001b[39;49m\u001b[38;5;124;43mExtractiveDistillation.bkp\u001b[39;49m\u001b[38;5;124;43m\"\u001b[39;49m\u001b[43m)\u001b[49m\n",
      "Cell \u001b[1;32mIn[1], line 4\u001b[0m, in \u001b[0;36mextract_block_names\u001b[1;34m(aspen_file_path)\u001b[0m\n\u001b[0;32m      2\u001b[0m \u001b[38;5;28;01mimport\u001b[39;00m \u001b[38;5;21;01mwin32com\u001b[39;00m\u001b[38;5;21;01m.\u001b[39;00m\u001b[38;5;21;01mclient\u001b[39;00m\n\u001b[0;32m      3\u001b[0m aspen \u001b[38;5;241m=\u001b[39m win32com\u001b[38;5;241m.\u001b[39mclient\u001b[38;5;241m.\u001b[39mDispatch(\u001b[38;5;124m\"\u001b[39m\u001b[38;5;124mApwn.Document\u001b[39m\u001b[38;5;124m\"\u001b[39m)\n\u001b[1;32m----> 4\u001b[0m \u001b[43maspen\u001b[49m\u001b[38;5;241;43m.\u001b[39;49m\u001b[43mInitFromArchive2\u001b[49m\u001b[43m(\u001b[49m\u001b[43maspen_file_path\u001b[49m\u001b[43m)\u001b[49m\n\u001b[0;32m      5\u001b[0m block_node \u001b[38;5;241m=\u001b[39m aspen\u001b[38;5;241m.\u001b[39mTree\u001b[38;5;241m.\u001b[39mFindNode(\u001b[38;5;124mr\u001b[39m\u001b[38;5;124m\"\u001b[39m\u001b[38;5;124m\\\u001b[39m\u001b[38;5;124mData\u001b[39m\u001b[38;5;124m\\\u001b[39m\u001b[38;5;124mBlocks\u001b[39m\u001b[38;5;124m\"\u001b[39m)\n\u001b[0;32m      6\u001b[0m block_names \u001b[38;5;241m=\u001b[39m [block\u001b[38;5;241m.\u001b[39mName \u001b[38;5;28;01mfor\u001b[39;00m block \u001b[38;5;129;01min\u001b[39;00m block_node\u001b[38;5;241m.\u001b[39mElements]\n",
      "File \u001b[1;32m<COMObject Apwn.Document>:3\u001b[0m, in \u001b[0;36mInitFromArchive2\u001b[1;34m(self, filename, host_type, node, username, password, working_directory, failmode)\u001b[0m\n",
      "\u001b[1;31mcom_error\u001b[0m: (-2147352567, '예외가 발생했습니다.', (2041, 'Aspen Plus 37.0 OLE Services', 'Unable to open file.', None, 0, 0), None)"
     ]
    }
   ],
   "source": [
    "def extract_block_names(aspen_file_path):\n",
    "    import win32com.client\n",
    "    aspen = win32com.client.Dispatch(\"Apwn.Document\")\n",
    "    aspen.InitFromArchive2(aspen_file_path)\n",
    "    block_node = aspen.Tree.FindNode(r\"\\Data\\Blocks\")\n",
    "    block_names = [block.Name for block in block_node.Elements]\n",
    "    aspen.Close(False)\n",
    "    return block_names\n",
    "extract_block_names(\"ExtractiveDistillation.bkp\")"
   ]
  }
 ],
 "metadata": {
  "kernelspec": {
   "display_name": "base",
   "language": "python",
   "name": "python3"
  },
  "language_info": {
   "codemirror_mode": {
    "name": "ipython",
    "version": 3
   },
   "file_extension": ".py",
   "mimetype": "text/x-python",
   "name": "python",
   "nbconvert_exporter": "python",
   "pygments_lexer": "ipython3",
   "version": "3.11.7"
  }
 },
 "nbformat": 4,
 "nbformat_minor": 5
}
