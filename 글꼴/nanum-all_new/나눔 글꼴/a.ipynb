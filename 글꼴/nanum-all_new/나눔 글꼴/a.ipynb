{
 "cells": [
  {
   "cell_type": "code",
   "execution_count": 1,
   "metadata": {},
   "outputs": [],
   "source": [
    "import os\n",
    "import shutil\n",
    "\n",
    "# 현재 디렉토리\n",
    "current_dir = os.getcwd()\n",
    "\n",
    "# 하위 디렉토리 순회\n",
    "for root, dirs, files in os.walk(current_dir):\n",
    "    if root == current_dir:\n",
    "        continue  # 현재 디렉토리는 제외\n",
    "\n",
    "    for file in files:\n",
    "        src_path = os.path.join(root, file)\n",
    "        dst_path = os.path.join(current_dir, file)\n",
    "\n",
    "        # 이름이 겹치는 경우 뒤에 번호 붙이기\n",
    "        if os.path.exists(dst_path):\n",
    "            base, ext = os.path.splitext(file)\n",
    "            i = 1\n",
    "            while True:\n",
    "                new_name = f\"{base}_{i}{ext}\"\n",
    "                dst_path = os.path.join(current_dir, new_name)\n",
    "                if not os.path.exists(dst_path):\n",
    "                    break\n",
    "                i += 1\n",
    "\n",
    "        shutil.copy2(src_path, dst_path)"
   ]
  },
  {
   "cell_type": "code",
   "execution_count": null,
   "id": "86749da7",
   "metadata": {},
   "outputs": [],
   "source": []
  }
 ],
 "metadata": {
  "kernelspec": {
   "display_name": "base",
   "language": "python",
   "name": "python3"
  },
  "language_info": {
   "codemirror_mode": {
    "name": "ipython",
    "version": 3
   },
   "file_extension": ".py",
   "mimetype": "text/x-python",
   "name": "python",
   "nbconvert_exporter": "python",
   "pygments_lexer": "ipython3",
   "version": "3.11.7"
  }
 },
 "nbformat": 4,
 "nbformat_minor": 5
}
