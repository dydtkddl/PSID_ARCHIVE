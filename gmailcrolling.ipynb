{
 "cells": [
  {
   "cell_type": "code",
   "execution_count": null,
   "metadata": {},
   "outputs": [
    {
     "name": "stdout",
     "output_type": "stream",
     "text": [
      "Google <no-reply@accounts.google.com>\n",
      "보안 알림\n",
      "1\n",
      "1\n",
      "None\n",
      "From: Google <no-reply@accounts.google.com>\n",
      "Subject: 보안 알림\n",
      "Body:\n",
      "[image: Google]\n",
      "계정에 로그인하기 위해 만든 앱 비밀번호\n",
      "\n",
      "\n",
      "dydtkddhkdwk@gmail.com\n",
      "gmail_crolling_python에 비밀번호를 생성하지 않았다면 다른 사람이 계정을  \n",
      "사용하는 것일 수 있습니다. 지금 계정 보안을\n",
      "점검하고 강화하세요.\n",
      "활동 확인\n",
      "<https://accounts.google.com/AccountChooser?Email=dydtkddhkdwk@gmail.com&continue=https://myaccount.google.com/alert/nt/1730789731295?rfn%3D20%26rfnc%3D1%26eid%3D-6044907390583379615%26et%3D0>\n",
      "다음 페이지에서 보안 활동도 확인할 수 있습니다.\n",
      "https://myaccount.google.com/notifications\n",
      "이 이메일은 Google 계정 및 서비스의 중요한 변경사항을 알려드리기 위해  \n",
      "발송되었습니다.\n",
      "© 2024 Google LLC, 1600 Amphitheatre Parkway, Mountain View, CA 94043, USA\n",
      "\n"
     ]
    },
    {
     "data": {
      "text/plain": [
       "('BYE', [b'LOGOUT Requested'])"
      ]
     },
     "execution_count": 7,
     "metadata": {},
     "output_type": "execute_result"
    }
   ],
   "source": [
    "import imaplib\n",
    "import email\n",
    "from email.header import decode_header, make_header\n",
    "# 비밀번호  mfhi nddt lkdk mkbm\n",
    "# 1. IMAP 서버 설정 및 로그인\n",
    "imap = imaplib.IMAP4_SSL('imap.gmail.com')\n",
    "imap.login('dydtkddhkdwk@gmail.com', 'mfhi nddt lkdk mkbm')\n",
    "\n",
    "# 2. 전체 편지함 선택\n",
    "imap.select(\"INBOX\")\n",
    "\n",
    "# 3. 최신 메일 선택\n",
    "status, messages = imap.uid('search', None, 'ALL')\n",
    "messages = messages[0].split()\n",
    "recent_email = messages[-1]\n",
    "\n",
    "# 4. 메일 내용 가져오기\n",
    "res, msg = imap.uid('fetch', recent_email, \"(RFC822)\")\n",
    "raw = msg[0][1]\n",
    "raw_readable = raw.decode('utf-8')\n",
    "\n",
    "# 5. 메일 내용 파싱하기\n",
    "email_message = email.message_from_string(raw_readable)\n",
    "\n",
    "# 보낸사람\n",
    "fr = make_header(decode_header(email_message.get('From')))\n",
    "print(fr)\n",
    "\n",
    "# 메일 제목\n",
    "subject = make_header(decode_header(email_message.get('Subject')))\n",
    "print(subject)\n",
    "if email_message.is_multipart():\n",
    "    for part in email_message.walk():\n",
    "        print(1)\n",
    "        ctype = part.get_content_type()\n",
    "        cdispo = str(part.get('Content-Disposition'))\n",
    "        if ctype == 'text/plain' and 'attachment' not in cdispo:\n",
    "            body = part.get_payload(decode=True)\n",
    "            print(cdispo)\n",
    "            break\n",
    "else:\n",
    "    body = email_message.get_payload(decode=True)\n",
    "body = body.decode('utf-8')\n",
    "\n",
    "# 결과 출력\n",
    "print(f\"From: {fr}\")\n",
    "print(f\"Subject: {subject}\")\n",
    "print(f\"Body:\\n{body}\")\n",
    "\n",
    "# 6. 연결 종료\n",
    "imap.logout()\n"
   ]
  },
  {
   "cell_type": "code",
   "execution_count": 22,
   "metadata": {},
   "outputs": [
    {
     "name": "stderr",
     "output_type": "stream",
     "text": [
      "  0%|          | 0/4 [00:00<?, ?it/s]\n"
     ]
    },
    {
     "ename": "TypeError",
     "evalue": "can't concat int to bytes",
     "output_type": "error",
     "traceback": [
      "\u001b[1;31m---------------------------------------------------------------------------\u001b[0m",
      "\u001b[1;31mTypeError\u001b[0m                                 Traceback (most recent call last)",
      "Cell \u001b[1;32mIn[22], line 18\u001b[0m\n\u001b[0;32m     15\u001b[0m \u001b[38;5;28;01mfrom\u001b[39;00m \u001b[38;5;21;01mtqdm\u001b[39;00m \u001b[38;5;28;01mimport\u001b[39;00m tqdm\n\u001b[0;32m     16\u001b[0m \u001b[38;5;28;01mfor\u001b[39;00m this_message \u001b[38;5;129;01min\u001b[39;00m tqdm(messages[::\u001b[38;5;241m-\u001b[39m\u001b[38;5;241m1\u001b[39m][\u001b[38;5;241m400\u001b[39m]):\n\u001b[0;32m     17\u001b[0m     \u001b[38;5;66;03m# 4. 메일 내용 가져오기\u001b[39;00m\n\u001b[1;32m---> 18\u001b[0m     res, msg \u001b[38;5;241m=\u001b[39m \u001b[43mimap\u001b[49m\u001b[38;5;241;43m.\u001b[39;49m\u001b[43muid\u001b[49m\u001b[43m(\u001b[49m\u001b[38;5;124;43m'\u001b[39;49m\u001b[38;5;124;43mfetch\u001b[39;49m\u001b[38;5;124;43m'\u001b[39;49m\u001b[43m,\u001b[49m\u001b[43m \u001b[49m\u001b[43mthis_message\u001b[49m\u001b[43m,\u001b[49m\u001b[43m \u001b[49m\u001b[38;5;124;43m\"\u001b[39;49m\u001b[38;5;124;43m(RFC822)\u001b[39;49m\u001b[38;5;124;43m\"\u001b[39;49m\u001b[43m)\u001b[49m\n\u001b[0;32m     19\u001b[0m     raw \u001b[38;5;241m=\u001b[39m msg[\u001b[38;5;241m0\u001b[39m][\u001b[38;5;241m1\u001b[39m]\n\u001b[0;32m     20\u001b[0m     raw_readable \u001b[38;5;241m=\u001b[39m raw\u001b[38;5;241m.\u001b[39mdecode(\u001b[38;5;124m'\u001b[39m\u001b[38;5;124mutf-8\u001b[39m\u001b[38;5;124m'\u001b[39m)\n",
      "File \u001b[1;32mc:\\Users\\PSID_PC_20\\anaconda3\\envs\\python39\\lib\\imaplib.py:890\u001b[0m, in \u001b[0;36mIMAP4.uid\u001b[1;34m(self, command, *args)\u001b[0m\n\u001b[0;32m    885\u001b[0m     \u001b[38;5;28;01mraise\u001b[39;00m \u001b[38;5;28mself\u001b[39m\u001b[38;5;241m.\u001b[39merror(\u001b[38;5;124m\"\u001b[39m\u001b[38;5;124mcommand \u001b[39m\u001b[38;5;132;01m%s\u001b[39;00m\u001b[38;5;124m illegal in state \u001b[39m\u001b[38;5;132;01m%s\u001b[39;00m\u001b[38;5;124m, \u001b[39m\u001b[38;5;124m\"\u001b[39m\n\u001b[0;32m    886\u001b[0m                      \u001b[38;5;124m\"\u001b[39m\u001b[38;5;124monly allowed in states \u001b[39m\u001b[38;5;132;01m%s\u001b[39;00m\u001b[38;5;124m\"\u001b[39m \u001b[38;5;241m%\u001b[39m\n\u001b[0;32m    887\u001b[0m                      (command, \u001b[38;5;28mself\u001b[39m\u001b[38;5;241m.\u001b[39mstate,\n\u001b[0;32m    888\u001b[0m                       \u001b[38;5;124m'\u001b[39m\u001b[38;5;124m, \u001b[39m\u001b[38;5;124m'\u001b[39m\u001b[38;5;241m.\u001b[39mjoin(Commands[command])))\n\u001b[0;32m    889\u001b[0m name \u001b[38;5;241m=\u001b[39m \u001b[38;5;124m'\u001b[39m\u001b[38;5;124mUID\u001b[39m\u001b[38;5;124m'\u001b[39m\n\u001b[1;32m--> 890\u001b[0m typ, dat \u001b[38;5;241m=\u001b[39m \u001b[38;5;28;43mself\u001b[39;49m\u001b[38;5;241;43m.\u001b[39;49m\u001b[43m_simple_command\u001b[49m\u001b[43m(\u001b[49m\u001b[43mname\u001b[49m\u001b[43m,\u001b[49m\u001b[43m \u001b[49m\u001b[43mcommand\u001b[49m\u001b[43m,\u001b[49m\u001b[43m \u001b[49m\u001b[38;5;241;43m*\u001b[39;49m\u001b[43margs\u001b[49m\u001b[43m)\u001b[49m\n\u001b[0;32m    891\u001b[0m \u001b[38;5;28;01mif\u001b[39;00m command \u001b[38;5;129;01min\u001b[39;00m (\u001b[38;5;124m'\u001b[39m\u001b[38;5;124mSEARCH\u001b[39m\u001b[38;5;124m'\u001b[39m, \u001b[38;5;124m'\u001b[39m\u001b[38;5;124mSORT\u001b[39m\u001b[38;5;124m'\u001b[39m, \u001b[38;5;124m'\u001b[39m\u001b[38;5;124mTHREAD\u001b[39m\u001b[38;5;124m'\u001b[39m):\n\u001b[0;32m    892\u001b[0m     name \u001b[38;5;241m=\u001b[39m command\n",
      "File \u001b[1;32mc:\\Users\\PSID_PC_20\\anaconda3\\envs\\python39\\lib\\imaplib.py:1230\u001b[0m, in \u001b[0;36mIMAP4._simple_command\u001b[1;34m(self, name, *args)\u001b[0m\n\u001b[0;32m   1228\u001b[0m \u001b[38;5;28;01mdef\u001b[39;00m \u001b[38;5;21m_simple_command\u001b[39m(\u001b[38;5;28mself\u001b[39m, name, \u001b[38;5;241m*\u001b[39margs):\n\u001b[1;32m-> 1230\u001b[0m     \u001b[38;5;28;01mreturn\u001b[39;00m \u001b[38;5;28mself\u001b[39m\u001b[38;5;241m.\u001b[39m_command_complete(name, \u001b[38;5;28;43mself\u001b[39;49m\u001b[38;5;241;43m.\u001b[39;49m\u001b[43m_command\u001b[49m\u001b[43m(\u001b[49m\u001b[43mname\u001b[49m\u001b[43m,\u001b[49m\u001b[43m \u001b[49m\u001b[38;5;241;43m*\u001b[39;49m\u001b[43margs\u001b[49m\u001b[43m)\u001b[49m)\n",
      "File \u001b[1;32mc:\\Users\\PSID_PC_20\\anaconda3\\envs\\python39\\lib\\imaplib.py:988\u001b[0m, in \u001b[0;36mIMAP4._command\u001b[1;34m(self, name, *args)\u001b[0m\n\u001b[0;32m    986\u001b[0m     \u001b[38;5;28;01mif\u001b[39;00m \u001b[38;5;28misinstance\u001b[39m(arg, \u001b[38;5;28mstr\u001b[39m):\n\u001b[0;32m    987\u001b[0m         arg \u001b[38;5;241m=\u001b[39m \u001b[38;5;28mbytes\u001b[39m(arg, \u001b[38;5;28mself\u001b[39m\u001b[38;5;241m.\u001b[39m_encoding)\n\u001b[1;32m--> 988\u001b[0m     data \u001b[38;5;241m=\u001b[39m \u001b[43mdata\u001b[49m\u001b[43m \u001b[49m\u001b[38;5;241;43m+\u001b[39;49m\u001b[43m \u001b[49m\u001b[38;5;124;43mb\u001b[39;49m\u001b[38;5;124;43m'\u001b[39;49m\u001b[38;5;124;43m \u001b[39;49m\u001b[38;5;124;43m'\u001b[39;49m\u001b[43m \u001b[49m\u001b[38;5;241;43m+\u001b[39;49m\u001b[43m \u001b[49m\u001b[43marg\u001b[49m\n\u001b[0;32m    990\u001b[0m literal \u001b[38;5;241m=\u001b[39m \u001b[38;5;28mself\u001b[39m\u001b[38;5;241m.\u001b[39mliteral\n\u001b[0;32m    991\u001b[0m \u001b[38;5;28;01mif\u001b[39;00m literal \u001b[38;5;129;01mis\u001b[39;00m \u001b[38;5;129;01mnot\u001b[39;00m \u001b[38;5;28;01mNone\u001b[39;00m:\n",
      "\u001b[1;31mTypeError\u001b[0m: can't concat int to bytes"
     ]
    }
   ],
   "source": [
    "import imaplib\n",
    "import email\n",
    "from email.header import decode_header, make_header\n",
    "# 비밀번호  mfhi nddt lkdk mkbm\n",
    "# 1. IMAP 서버 설정 및 로그인\n",
    "imap = imaplib.IMAP4_SSL('imap.gmail.com')\n",
    "imap.login('dydtkddhkdwk@gmail.com', 'mfhi nddt lkdk mkbm')\n",
    "\n",
    "# 2. 전체 편지함 선택\n",
    "imap.select(\"INBOX\")\n",
    "\n",
    "# 3. 최신 메일 선택\n",
    "status, messages = imap.uid('search', None, 'ALL')\n",
    "messages = messages[0].split()\n",
    "from tqdm import tqdm\n",
    "for this_message in tqdm(messages[::-1][400]):\n",
    "    # 4. 메일 내용 가져오기\n",
    "    res, msg = imap.uid('fetch', this_message, \"(RFC822)\")\n",
    "    raw = msg[0][1]\n",
    "    raw_readable = raw.decode('utf-8')\n",
    "    # 5. 메일 내용 파싱하기\n",
    "    email_message = email.message_from_string(raw_readable)\n",
    "    fr = make_header(decode_header(email_message.get('From')))\n",
    "    if (fr == \"Quora Digest <english-personalized-digest@quora.com>\"):\n",
    "        # 메일 제목\n",
    "        subject = make_header(decode_header(email_message.get('Subject')))\n",
    "        if email_message.is_multipart():\n",
    "            for part in email_message.walk():\n",
    "                ctype = part.get_content_type()\n",
    "                cdispo = str(part.get('Content-Disposition'))\n",
    "                if ctype == 'text/plain' and 'attachment' not in cdispo:\n",
    "                    body = part.get_payload(decode=True)\n",
    "                    break\n",
    "        else:\n",
    "            body = email_message.get_payload(decode=True)\n",
    "        try :\n",
    "            body = body.decode('utf-8')\n",
    "        except:\n",
    "            body = None\n",
    "    # 결과 출력\n",
    "    print(f\"From: {fr}\")\n",
    "    print(f\"Subject: {subject}\")\n",
    "    print(f\"Body:\\n{body}\")\n",
    "    input()\n",
    "# 6. 연결 종료\n",
    "imap.logout()\n"
   ]
  },
  {
   "cell_type": "code",
   "execution_count": 10,
   "metadata": {},
   "outputs": [
    {
     "data": {
      "text/plain": [
       "<email.message.Message at 0x21cded3b820>"
      ]
     },
     "execution_count": 10,
     "metadata": {},
     "output_type": "execute_result"
    }
   ],
   "source": [
    "email_message"
   ]
  }
 ],
 "metadata": {
  "kernelspec": {
   "display_name": "python39",
   "language": "python",
   "name": "python3"
  },
  "language_info": {
   "codemirror_mode": {
    "name": "ipython",
    "version": 3
   },
   "file_extension": ".py",
   "mimetype": "text/x-python",
   "name": "python",
   "nbconvert_exporter": "python",
   "pygments_lexer": "ipython3",
   "version": "3.9.19"
  }
 },
 "nbformat": 4,
 "nbformat_minor": 2
}
