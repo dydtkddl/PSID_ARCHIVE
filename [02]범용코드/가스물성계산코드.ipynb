{
 "cells": [
  {
   "cell_type": "markdown",
   "metadata": {},
   "source": [
    "## COREMOF_XRD_DESCRIPTERS_UPTAKES(O2_CO2).pickle 파일 만드는 부분"
   ]
  },
  {
   "cell_type": "code",
   "execution_count": 11,
   "metadata": {},
   "outputs": [
    {
     "name": "stdout",
     "output_type": "stream",
     "text": [
      "./COREMOF_XRD_DESCRIPTERS_UPTAKES(O2_CO2).pickle pickle load!\n"
     ]
    }
   ],
   "source": [
    "\n",
    "from handle_pickle import load_pickle, dump_pickle\n",
    "# DATA2_ablation= load_pickle(\"./DATA2_ablation.pickle\")\n",
    "# DATA2_XRD= load_pickle(\"./DATA2_XRD.pickle\")\n",
    "# DATA2_PCA= load_pickle(\"./DATA2.pickle\")\n",
    "# xrddata_GCMC_merged_coremof= pd.read_csv(\"./xrddata_GCMC_merged_coremof.csv\").iloc[:, 2:]\n",
    "# UPTAKES =pd.read_csv( os.path.join(winshell.shortcut(\"./0909나현누나자료.lnk\").path, [ x for  x in os.listdir(winshell.shortcut(\"./0909나현누나자료.lnk\").path) if x.endswith(\".csv\")][0] ))\n",
    "# coremof = pd.read_csv(winshell.shortcut(\"./coremofdatabase.lnk\").path)\n",
    "# coremof_xrd_ = pd.merge(xrddata_GCMC_merged_coremof[['coremof', 'twotheta', 'intensive', \n",
    "#        'O2_20C_0.5bar', 'O2_20C_1bar', 'O2_20C_5bar', 'O2_20C_15bar',\n",
    "#        'CO2_20C_0.5bar', 'CO2_20C_1bar', 'CO2_20C_5bar']], coremof ,left_on = \"coremof\" , right_on = \"filename\" , how  = \"inner\" )\n",
    "# dump_pickle(\"./COREMOF_XRD_DESCRIPTERS_UPTAKES(O2_CO2).pickle\", pd.concat([coremof_xrd_[['coremof', 'twotheta', 'intensive', 'O2_20C_0.5bar', 'O2_20C_1bar',\n",
    "#        'O2_20C_5bar', 'O2_20C_15bar', 'CO2_20C_0.5bar', 'CO2_20C_1bar',\n",
    "#        'CO2_20C_5bar']], DATA2_ablation.iloc[:, :-1]] , axis = 1))\n",
    "COREMOF_XRD_DESCRIPTERS_UPTAKES_CO2_O2 = load_pickle(\"./COREMOF_XRD_DESCRIPTERS_UPTAKES(O2_CO2).pickle\")\n",
    "COREMOF_DESCRIPTERS_UPTAKES_CO2_O2 = COREMOF_XRD_DESCRIPTERS_UPTAKES_CO2_O2.drop([\"twotheta\" ,\"intensive\"], axis  =1)"
   ]
  },
  {
   "cell_type": "markdown",
   "metadata": {},
   "source": [
    "## O2 CO2 물성 계산 코드"
   ]
  },
  {
   "cell_type": "code",
   "execution_count": 2,
   "metadata": {},
   "outputs": [
    {
     "name": "stdout",
     "output_type": "stream",
     "text": [
      "Calculating properties for CO2 (SMILES: O=C=O)\n",
      "Calculating properties for CO2 (SMILES: O=C=O)\n",
      "Calculating properties for CO2 (SMILES: O=C=O)\n",
      "Calculating properties for CO2 (SMILES: O=C=O)\n",
      "Calculating properties for O2 (SMILES: O=O)\n",
      "Calculating properties for O2 (SMILES: O=O)\n",
      "Calculating properties for O2 (SMILES: O=O)\n",
      "Calculating properties for O2 (SMILES: O=O)\n"
     ]
    }
   ],
   "source": [
    "import calculate_properties\n",
    "import pandas as pd\n",
    "import numpy as np\n",
    "\n",
    "molecule_properties = []\n",
    "molecule_list = [\"CO2\", \"O2\"]\n",
    "smile_molecule_list = [\"O=C=O\", \"O=O\"]\n",
    "pressure_list = [50000, 100000,500000,1500000]\n",
    "temperature_list = [20+ 273.15]\n",
    "for smile , molecule in zip(smile_molecule_list, molecule_list):\n",
    "    for temp in temperature_list:\n",
    "        for pressure in pressure_list:\n",
    "            temporary_dict = {}\n",
    "            temporary_dict = {\"molecule\" : molecule }\n",
    "            temporary_dict[\"Temperature\"]= temp\n",
    "            temporary_dict[\"Pressure\"]=pressure\n",
    "            properties = calculate_properties.calculate_properties(smile, molecule, pressure, temp)\n",
    "            for key, value in properties.items():\n",
    "                temporary_dict[key] = value \n",
    "            molecule_properties.append(temporary_dict)"
   ]
  },
  {
   "cell_type": "code",
   "execution_count": 85,
   "metadata": {},
   "outputs": [],
   "source": [
    "new_column = ['coremof', 'UPTAKE 0.5bar', 'UPTAKE target', 'LCD', 'PLD', 'LFPD',\n",
    "       'cm3_g', 'ASA_m2_cm3', 'ASA_m2_g', 'NASA_m2_cm3', 'NASA_m2_g', 'AV_VF',\n",
    "       'AV_cm3_g', 'NAV_cm3_g', 'Has_OMS_encoded', 'All_Metals_Cs',\n",
    "       'All_Metals_Bi', 'All_Metals_Ba', 'All_Metals_Sr', 'All_Metals_Nb',\n",
    "       'All_Metals_Pb', 'All_Metals_Sb', 'All_Metals_Rb', 'All_Metals_Co',\n",
    "       'All_Metals_Sc', 'All_Metals_Re', 'All_Metals_Na', 'All_Metals_Er',\n",
    "       'All_Metals_Li', 'All_Metals_Zn', 'All_Metals_Hg', 'All_Metals_Mg',\n",
    "       'All_Metals_Ho', 'All_Metals_Cr', 'All_Metals_Lu', 'All_Metals_Cu',\n",
    "       'All_Metals_Cd', 'All_Metals_Ge', 'All_Metals_Be', 'All_Metals_Fe',\n",
    "       'All_Metals_K', 'All_Metals_As', 'All_Metals_Si', 'All_Metals_Np',\n",
    "       'All_Metals_Ni', 'All_Metals_Zr', 'All_Metals_V', 'All_Metals_Ti',\n",
    "       'All_Metals_Ce', 'All_Metals_Al', 'All_Metals_Ca', 'All_Metals_W',\n",
    "       'All_Metals_Sn', 'All_Metals_Mn', 'All_Metals_Yb', 'All_Metals_Th',\n",
    "       'Open_Metal_Sites_Cs', 'Open_Metal_Sites_Bi', 'Open_Metal_Sites_Ba',\n",
    "       'Open_Metal_Sites_Sr', 'Open_Metal_Sites_Nb', 'Open_Metal_Sites_Pb',\n",
    "       'Open_Metal_Sites_Sb', 'Open_Metal_Sites_Rb', 'Open_Metal_Sites_Co',\n",
    "       'Open_Metal_Sites_Sc', 'Open_Metal_Sites_Re', 'Open_Metal_Sites_Na',\n",
    "       'Open_Metal_Sites_Er', 'Open_Metal_Sites_Li', 'Open_Metal_Sites_Zn',\n",
    "       'Open_Metal_Sites_Mg', 'Open_Metal_Sites_Ho', 'Open_Metal_Sites_Cr',\n",
    "       'Open_Metal_Sites_Lu', 'Open_Metal_Sites_Cu', 'Open_Metal_Sites_Cd',\n",
    "       'Open_Metal_Sites_Ge', 'Open_Metal_Sites_Fe', 'Open_Metal_Sites_K',\n",
    "       'Open_Metal_Sites_As', 'Open_Metal_Sites_Si', 'Open_Metal_Sites_Np',\n",
    "       'Open_Metal_Sites_Ni', 'Open_Metal_Sites_Zr', 'Open_Metal_Sites_V',\n",
    "       'Open_Metal_Sites_Ti', 'Open_Metal_Sites_Ce', 'Open_Metal_Sites_Al',\n",
    "       'Open_Metal_Sites_ ', 'Open_Metal_Sites_Ca', 'Open_Metal_Sites_W',\n",
    "       'Open_Metal_Sites_Sn', 'Open_Metal_Sites_Mn', 'Open_Metal_Sites_Yb',\n",
    "       'Open_Metal_Sites_Th', 'adsorbate', 'pressure', 'temperature']\n",
    "O2_20C_1bar_DATA = COREMOF_DESCRIPTERS_UPTAKES_CO2_O2.copy().drop([\"O2_20C_15bar\", \"O2_20C_5bar\",\"CO2_20C_5bar\", \"CO2_20C_1bar\",\"CO2_20C_0.5bar\"], axis = 1)\n",
    "O2_20C_5bar_DATA = COREMOF_DESCRIPTERS_UPTAKES_CO2_O2.copy().drop([\"O2_20C_1bar\", \"O2_20C_15bar\",\"CO2_20C_5bar\", \"CO2_20C_1bar\",\"CO2_20C_0.5bar\"], axis = 1)\n",
    "O2_20C_15bar_DATA = COREMOF_DESCRIPTERS_UPTAKES_CO2_O2.copy().drop([\"O2_20C_1bar\", \"O2_20C_5bar\",\"CO2_20C_5bar\", \"CO2_20C_1bar\",\"CO2_20C_0.5bar\"], axis = 1)\n",
    "CO2_20C_1bar_DATA = COREMOF_DESCRIPTERS_UPTAKES_CO2_O2.copy().drop([\"CO2_20C_5bar\",\"O2_20C_15bar\", \"O2_20C_5bar\", \"O2_20C_0.5bar\", \"O2_20C_1bar\"], axis = 1)\n",
    "CO2_20C_5bar_DATA = COREMOF_DESCRIPTERS_UPTAKES_CO2_O2.copy().drop([\"CO2_20C_1bar\",\"O2_20C_15bar\", \"O2_20C_5bar\", \"O2_20C_0.5bar\", \"O2_20C_1bar\"], axis = 1)\n",
    "O2_20C_1bar_DATA[\"adsorbate\"] =\"O2\" \n",
    "O2_20C_5bar_DATA[\"adsorbate\"] =\"O2\" \n",
    "O2_20C_15bar_DATA[\"adsorbate\"] =\"O2\" \n",
    "CO2_20C_1bar_DATA[\"adsorbate\"] =\"CO2\" \n",
    "CO2_20C_5bar_DATA[\"adsorbate\"] =\"CO2\" \n",
    "\n",
    "O2_20C_1bar_DATA[\"pressure\"] =1 \n",
    "O2_20C_5bar_DATA[\"pressure\"] =5 \n",
    "O2_20C_15bar_DATA[\"pressure\"] =15 \n",
    "CO2_20C_1bar_DATA[\"pressure\"] =1 \n",
    "CO2_20C_5bar_DATA[\"pressure\"] =5 \n",
    "O2_20C_1bar_DATA[\"temperature\"] =273.15 + 20\n",
    "O2_20C_5bar_DATA[\"temperature\"] =273.15 + 20\n",
    "O2_20C_15bar_DATA[\"temperature\"] =273.15 + 20 \n",
    "CO2_20C_1bar_DATA[\"temperature\"] =273.15 + 20 \n",
    "CO2_20C_5bar_DATA[\"temperature\"] =273.15 + 20 \n",
    "O2_20C_1bar_DATA.columns = new_column\n",
    "O2_20C_5bar_DATA.columns = new_column\n",
    "O2_20C_15bar_DATA.columns = new_column\n",
    "CO2_20C_1bar_DATA.columns = new_column\n",
    "CO2_20C_5bar_DATA.columns = new_column\n",
    "\n",
    "def addon_molecule_properties(DF,molecule_properties,target_keys):\n",
    "    row =DF.iloc[1].to_dict()\n",
    "    length = len(DF)\n",
    "    temperature = row[\"temperature\"]\n",
    "    pressure= row[\"pressure\"]\n",
    "    absorbate= row[\"adsorbate\"]\n",
    "    ind = 0\n",
    "    for molecule_ , temp , presss in zip([ x[\"molecule\"] for x in molecule_properties ] ,[ x[\"Temperature\"] for x in molecule_properties ] ,[ int(x[\"Pressure\"]/ 100000) for x in molecule_properties ] ):\n",
    "        if (molecule_ == absorbate) and (temp == temperature) and (presss == pressure) :\n",
    "            break \n",
    "        ind +=1\n",
    "    t_d = {key : molecule_properties[ind][key] for key in molecule_properties[ind] if key in target_keys }\n",
    "    new_df = pd.DataFrame([t_d])\n",
    "    new_df_repeated = pd.concat([new_df] * length, ignore_index=True)\n",
    "    result = pd.concat([DF, new_df_repeated], axis=1)\n",
    "    return result \n",
    "target_keys = [ 'Molecular weight (g/mol)', 'H-bond donors', 'H-bond acceptors', 'Dipole moment (D)', 'Molecular surface area (Å^2)', 'Critical temperature (K)', 'Compressibility factor (상온,상압)', 'Hmolar (상온,상압)', 'Compressibility factor 주어진 압력, 온도', 'Hmola 주어진 압력, 온도', 'Boiling point at 1atm (K)', 'Melting point at 1atm (K)', 'Boiling point at 주어진압력 (K)', 'Melting point at 주어진압력 (K)', ]\n",
    "O2_20C_1bar_DATA = addon_molecule_properties(O2_20C_1bar_DATA, molecule_properties, target_keys)\n",
    "O2_20C_5bar_DATA = addon_molecule_properties(O2_20C_5bar_DATA, molecule_properties, target_keys)\n",
    "O2_20C_15bar_DATA = addon_molecule_properties(O2_20C_15bar_DATA, molecule_properties, target_keys)\n",
    "CO2_20C_1bar_DATA = addon_molecule_properties(CO2_20C_1bar_DATA, molecule_properties, target_keys)\n",
    "CO2_20C_5bar_DATA = addon_molecule_properties(CO2_20C_5bar_DATA, molecule_properties, target_keys)\n",
    "ALL_DF_WITHOUT_HENRY = pd.concat([O2_20C_1bar_DATA,O2_20C_5bar_DATA,O2_20C_15bar_DATA,CO2_20C_1bar_DATA,CO2_20C_5bar_DATA], axis = 0)\n",
    "ALL_DF_WITHOUT_HENRY[\"difference_ratio\" ] = ALL_DF_WITHOUT_HENRY[ 'UPTAKE target'] / ALL_DF_WITHOUT_HENRY[ 'UPTAKE 0.5bar']\n",
    "dump_pickle(\"ALL_DF_WITHOUT_HENRY.pickle\",ALL_DF_WITHOUT_HENRY)\n",
    "ALL_DF_WITHOUT_HENRY = load_pickle(\"ALL_DF_WITHOUT_HENRY.pickle\")\n",
    "\n",
    "from sklearn.preprocessing import LabelEncoder    \n",
    "def preprocessing_ALL_DF_WITHOUT_HENRY():\n",
    "    ALL_DF_WITHOUT_HENRY_ = ALL_DF_WITHOUT_HENRY.copy()\n",
    "    ALL_DF_WITHOUT_HENRY_[\"Dipole moment (D)\"] = np.sqrt(np.sum(np.vstack(list(ALL_DF_WITHOUT_HENRY[\"Dipole moment (D)\"].values))**2 , axis = 1))\n",
    "    encoder = LabelEncoder()\n",
    "    ALL_DF_WITHOUT_HENRY_[\"adsorbate\"]  =encoder.fit_transform(ALL_DF_WITHOUT_HENRY[\"adsorbate\"])\n",
    "    return ALL_DF_WITHOUT_HENRY_\n",
    "ALL_DF_WITHOUT_HENRY_ = preprocessing_ALL_DF_WITHOUT_HENRY()\n",
    "dump_pickle(\"ALL_DF_WITHOUT_HENRY_after_preprocessed.pickle\",ALL_DF_WITHOUT_HENRY_)\n"
   ]
  },
  {
   "cell_type": "code",
   "execution_count": 7,
   "metadata": {},
   "outputs": [
    {
     "name": "stderr",
     "output_type": "stream",
     "text": [
      "  0%|          | 0/4864 [00:00<?, ?it/s]"
     ]
    },
    {
     "name": "stderr",
     "output_type": "stream",
     "text": [
      " 23%|██▎       | 1124/4864 [00:26<01:46, 35.15it/s]"
     ]
    },
    {
     "name": "stdout",
     "output_type": "stream",
     "text": [
      "find NONE\n"
     ]
    },
    {
     "name": "stderr",
     "output_type": "stream",
     "text": [
      " 56%|█████▌    | 2709/4864 [01:09<00:51, 42.09it/s]"
     ]
    },
    {
     "name": "stdout",
     "output_type": "stream",
     "text": [
      "find NONE\n"
     ]
    },
    {
     "name": "stderr",
     "output_type": "stream",
     "text": [
      " 80%|████████  | 3914/4864 [01:41<00:23, 40.41it/s]"
     ]
    },
    {
     "name": "stdout",
     "output_type": "stream",
     "text": [
      "find NONE\n"
     ]
    },
    {
     "name": "stderr",
     "output_type": "stream",
     "text": [
      "100%|██████████| 4864/4864 [02:06<00:00, 38.31it/s]\n"
     ]
    }
   ],
   "source": [
    "import pandas as pd \n",
    "import os \n",
    "import winshell \n",
    "import tqdm     \n",
    "import numpy as  np\n",
    "import pickle \n",
    "path = winshell.shortcut(\"./O2헨리상수계산위치.lnk\").path\n",
    "paths = [os.path.join(path,x) for x in os.listdir(path) if \"[complete]\" in x]\n",
    "#################O2헨리상수 계산위치#################\n",
    "henry_coeffs = {}\n",
    "for path in tqdm.tqdm(paths):\n",
    "    try:\n",
    "        mofname = os.path.basename(path).replace(\"[complete]_[CoreMOF]\", \"\")\n",
    "        sub_path = path + \"\\\\Output\\\\System_0\\\\\"\n",
    "        sub_path += os.listdir(sub_path)[0]\n",
    "        string = \"[O2] Average Henry coefficient:  \"\n",
    "        with open(sub_path, \"r\" ) as f:\n",
    "            txt = f.read()\n",
    "            start = txt.find(string) + len(string) \n",
    "            last = txt.find(\" [mol/kg/Pa]\", start)\n",
    "        henry_coeffs[mofname ]= txt[start : last]\n",
    "    except:\n",
    "        henry_coeffs[mofname ]= None \n",
    "        print(\"find NONE\")\n",
    "O2_henry_df = pd.DataFrame( {\"MOFS\" : list(henry_coeffs.keys()), \"henry_coeff\" :  list(henry_coeffs.values()) })\n",
    "\n",
    "#################CO2헨리상수 계산위치#################\n",
    "path = winshell.shortcut(\"./CO2헨리상수계산위치.lnk\").path\n",
    "paths = [os.path.join(path,x) for x in os.listdir(path) if \"[complete]\" in x]\n",
    "## 헨리상수 데이터프레임 만들기 ( 먼저 계산한걸로 일단 1000개 진행 )\n",
    "henry_coeffs = {}\n",
    "for path in tqdm.tqdm(paths):\n",
    "    try:\n",
    "        mofname = os.path.basename(path).replace(\"[complete]_[CoreMOF]\", \"\")\n",
    "        sub_path = path + \"\\\\Output\\\\System_0\\\\\"\n",
    "        sub_path += os.listdir(sub_path)[0]\n",
    "        string = \"[CO2] Average Henry coefficient:  \"\n",
    "        with open(sub_path, \"r\" ) as f:\n",
    "            txt = f.read()\n",
    "            start = txt.find(string) + len(string) \n",
    "            last = txt.find(\" [mol/kg/Pa]\", start)\n",
    "        henry_coeffs[mofname ]= txt[start : last]\n",
    "    except:\n",
    "        henry_coeffs[mofname ]= None \n",
    "        print(\"find NONE\")\n",
    "CO2_henry_df = pd.DataFrame( {\"MOFS\" : list(henry_coeffs.keys()), \"henry_coeff\" :  list(henry_coeffs.values()) })"
   ]
  },
  {
   "cell_type": "code",
   "execution_count": 14,
   "metadata": {},
   "outputs": [
    {
     "ename": "FileNotFoundError",
     "evalue": "[Errno 2] No such file or directory: './xrddata_GCMC_merged_coremof[all].csv'",
     "output_type": "error",
     "traceback": [
      "\u001b[1;31m---------------------------------------------------------------------------\u001b[0m",
      "\u001b[1;31mFileNotFoundError\u001b[0m                         Traceback (most recent call last)",
      "Cell \u001b[1;32mIn[14], line 2\u001b[0m\n\u001b[0;32m      1\u001b[0m \u001b[38;5;66;03m## GCMC데이터랑 병합하기\u001b[39;00m\n\u001b[1;32m----> 2\u001b[0m df \u001b[38;5;241m=\u001b[39m \u001b[43mpd\u001b[49m\u001b[38;5;241;43m.\u001b[39;49m\u001b[43mread_csv\u001b[49m\u001b[43m(\u001b[49m\u001b[38;5;124;43m\"\u001b[39;49m\u001b[38;5;124;43m./xrddata_GCMC_merged_coremof[all].csv\u001b[39;49m\u001b[38;5;124;43m\"\u001b[39;49m\u001b[43m)\u001b[49m\n\u001b[0;32m      3\u001b[0m coremof_uptakes \u001b[38;5;241m=\u001b[39m df[[\u001b[38;5;124m'\u001b[39m\u001b[38;5;124mcoremof\u001b[39m\u001b[38;5;124m'\u001b[39m, \u001b[38;5;124m'\u001b[39m\u001b[38;5;124mO2_20C_0.5bar\u001b[39m\u001b[38;5;124m'\u001b[39m, \u001b[38;5;124m'\u001b[39m\u001b[38;5;124mO2_20C_1bar\u001b[39m\u001b[38;5;124m'\u001b[39m, \u001b[38;5;124m'\u001b[39m\u001b[38;5;124mO2_20C_5bar\u001b[39m\u001b[38;5;124m'\u001b[39m,\n\u001b[0;32m      4\u001b[0m        \u001b[38;5;124m'\u001b[39m\u001b[38;5;124mO2_20C_15bar\u001b[39m\u001b[38;5;124m'\u001b[39m]]\n\u001b[0;32m      5\u001b[0m \u001b[38;5;66;03m# for key in henry_coeffs.keys():\u001b[39;00m\n\u001b[0;32m      6\u001b[0m \u001b[38;5;66;03m#     henry_coeffs[key]  =float(henry_coeffs[key].split(\" +/- \")[0])\u001b[39;00m\n\u001b[0;32m      7\u001b[0m \u001b[38;5;66;03m# merged_data = pd.merge(coremof_uptakes, henry_df, how = \"inner\", left_on = \"coremof\", right_on = \"MOFS\")\u001b[39;00m\n\u001b[1;32m   (...)\u001b[0m\n\u001b[0;32m     22\u001b[0m \u001b[38;5;66;03m# PCA_HENRY_UPTAKE_DESCRIPTER_DF[\"O2_20C_15bar\"] = O2_20C_15bar\u001b[39;00m\n\u001b[0;32m     23\u001b[0m \u001b[38;5;66;03m# PCA_HENRY_UPTAKE_DESCRIPTER_DF\u001b[39;00m\n",
      "File \u001b[1;32mc:\\Users\\PSID_PC_20\\anaconda3\\envs\\SMR\\lib\\site-packages\\pandas\\io\\parsers\\readers.py:1026\u001b[0m, in \u001b[0;36mread_csv\u001b[1;34m(filepath_or_buffer, sep, delimiter, header, names, index_col, usecols, dtype, engine, converters, true_values, false_values, skipinitialspace, skiprows, skipfooter, nrows, na_values, keep_default_na, na_filter, verbose, skip_blank_lines, parse_dates, infer_datetime_format, keep_date_col, date_parser, date_format, dayfirst, cache_dates, iterator, chunksize, compression, thousands, decimal, lineterminator, quotechar, quoting, doublequote, escapechar, comment, encoding, encoding_errors, dialect, on_bad_lines, delim_whitespace, low_memory, memory_map, float_precision, storage_options, dtype_backend)\u001b[0m\n\u001b[0;32m   1013\u001b[0m kwds_defaults \u001b[38;5;241m=\u001b[39m _refine_defaults_read(\n\u001b[0;32m   1014\u001b[0m     dialect,\n\u001b[0;32m   1015\u001b[0m     delimiter,\n\u001b[1;32m   (...)\u001b[0m\n\u001b[0;32m   1022\u001b[0m     dtype_backend\u001b[38;5;241m=\u001b[39mdtype_backend,\n\u001b[0;32m   1023\u001b[0m )\n\u001b[0;32m   1024\u001b[0m kwds\u001b[38;5;241m.\u001b[39mupdate(kwds_defaults)\n\u001b[1;32m-> 1026\u001b[0m \u001b[38;5;28;01mreturn\u001b[39;00m \u001b[43m_read\u001b[49m\u001b[43m(\u001b[49m\u001b[43mfilepath_or_buffer\u001b[49m\u001b[43m,\u001b[49m\u001b[43m \u001b[49m\u001b[43mkwds\u001b[49m\u001b[43m)\u001b[49m\n",
      "File \u001b[1;32mc:\\Users\\PSID_PC_20\\anaconda3\\envs\\SMR\\lib\\site-packages\\pandas\\io\\parsers\\readers.py:620\u001b[0m, in \u001b[0;36m_read\u001b[1;34m(filepath_or_buffer, kwds)\u001b[0m\n\u001b[0;32m    617\u001b[0m _validate_names(kwds\u001b[38;5;241m.\u001b[39mget(\u001b[38;5;124m\"\u001b[39m\u001b[38;5;124mnames\u001b[39m\u001b[38;5;124m\"\u001b[39m, \u001b[38;5;28;01mNone\u001b[39;00m))\n\u001b[0;32m    619\u001b[0m \u001b[38;5;66;03m# Create the parser.\u001b[39;00m\n\u001b[1;32m--> 620\u001b[0m parser \u001b[38;5;241m=\u001b[39m TextFileReader(filepath_or_buffer, \u001b[38;5;241m*\u001b[39m\u001b[38;5;241m*\u001b[39mkwds)\n\u001b[0;32m    622\u001b[0m \u001b[38;5;28;01mif\u001b[39;00m chunksize \u001b[38;5;129;01mor\u001b[39;00m iterator:\n\u001b[0;32m    623\u001b[0m     \u001b[38;5;28;01mreturn\u001b[39;00m parser\n",
      "File \u001b[1;32mc:\\Users\\PSID_PC_20\\anaconda3\\envs\\SMR\\lib\\site-packages\\pandas\\io\\parsers\\readers.py:1620\u001b[0m, in \u001b[0;36mTextFileReader.__init__\u001b[1;34m(self, f, engine, **kwds)\u001b[0m\n\u001b[0;32m   1617\u001b[0m     \u001b[38;5;28mself\u001b[39m\u001b[38;5;241m.\u001b[39moptions[\u001b[38;5;124m\"\u001b[39m\u001b[38;5;124mhas_index_names\u001b[39m\u001b[38;5;124m\"\u001b[39m] \u001b[38;5;241m=\u001b[39m kwds[\u001b[38;5;124m\"\u001b[39m\u001b[38;5;124mhas_index_names\u001b[39m\u001b[38;5;124m\"\u001b[39m]\n\u001b[0;32m   1619\u001b[0m \u001b[38;5;28mself\u001b[39m\u001b[38;5;241m.\u001b[39mhandles: IOHandles \u001b[38;5;241m|\u001b[39m \u001b[38;5;28;01mNone\u001b[39;00m \u001b[38;5;241m=\u001b[39m \u001b[38;5;28;01mNone\u001b[39;00m\n\u001b[1;32m-> 1620\u001b[0m \u001b[38;5;28mself\u001b[39m\u001b[38;5;241m.\u001b[39m_engine \u001b[38;5;241m=\u001b[39m \u001b[38;5;28;43mself\u001b[39;49m\u001b[38;5;241;43m.\u001b[39;49m\u001b[43m_make_engine\u001b[49m\u001b[43m(\u001b[49m\u001b[43mf\u001b[49m\u001b[43m,\u001b[49m\u001b[43m \u001b[49m\u001b[38;5;28;43mself\u001b[39;49m\u001b[38;5;241;43m.\u001b[39;49m\u001b[43mengine\u001b[49m\u001b[43m)\u001b[49m\n",
      "File \u001b[1;32mc:\\Users\\PSID_PC_20\\anaconda3\\envs\\SMR\\lib\\site-packages\\pandas\\io\\parsers\\readers.py:1880\u001b[0m, in \u001b[0;36mTextFileReader._make_engine\u001b[1;34m(self, f, engine)\u001b[0m\n\u001b[0;32m   1878\u001b[0m     \u001b[38;5;28;01mif\u001b[39;00m \u001b[38;5;124m\"\u001b[39m\u001b[38;5;124mb\u001b[39m\u001b[38;5;124m\"\u001b[39m \u001b[38;5;129;01mnot\u001b[39;00m \u001b[38;5;129;01min\u001b[39;00m mode:\n\u001b[0;32m   1879\u001b[0m         mode \u001b[38;5;241m+\u001b[39m\u001b[38;5;241m=\u001b[39m \u001b[38;5;124m\"\u001b[39m\u001b[38;5;124mb\u001b[39m\u001b[38;5;124m\"\u001b[39m\n\u001b[1;32m-> 1880\u001b[0m \u001b[38;5;28mself\u001b[39m\u001b[38;5;241m.\u001b[39mhandles \u001b[38;5;241m=\u001b[39m \u001b[43mget_handle\u001b[49m\u001b[43m(\u001b[49m\n\u001b[0;32m   1881\u001b[0m \u001b[43m    \u001b[49m\u001b[43mf\u001b[49m\u001b[43m,\u001b[49m\n\u001b[0;32m   1882\u001b[0m \u001b[43m    \u001b[49m\u001b[43mmode\u001b[49m\u001b[43m,\u001b[49m\n\u001b[0;32m   1883\u001b[0m \u001b[43m    \u001b[49m\u001b[43mencoding\u001b[49m\u001b[38;5;241;43m=\u001b[39;49m\u001b[38;5;28;43mself\u001b[39;49m\u001b[38;5;241;43m.\u001b[39;49m\u001b[43moptions\u001b[49m\u001b[38;5;241;43m.\u001b[39;49m\u001b[43mget\u001b[49m\u001b[43m(\u001b[49m\u001b[38;5;124;43m\"\u001b[39;49m\u001b[38;5;124;43mencoding\u001b[39;49m\u001b[38;5;124;43m\"\u001b[39;49m\u001b[43m,\u001b[49m\u001b[43m \u001b[49m\u001b[38;5;28;43;01mNone\u001b[39;49;00m\u001b[43m)\u001b[49m\u001b[43m,\u001b[49m\n\u001b[0;32m   1884\u001b[0m \u001b[43m    \u001b[49m\u001b[43mcompression\u001b[49m\u001b[38;5;241;43m=\u001b[39;49m\u001b[38;5;28;43mself\u001b[39;49m\u001b[38;5;241;43m.\u001b[39;49m\u001b[43moptions\u001b[49m\u001b[38;5;241;43m.\u001b[39;49m\u001b[43mget\u001b[49m\u001b[43m(\u001b[49m\u001b[38;5;124;43m\"\u001b[39;49m\u001b[38;5;124;43mcompression\u001b[39;49m\u001b[38;5;124;43m\"\u001b[39;49m\u001b[43m,\u001b[49m\u001b[43m \u001b[49m\u001b[38;5;28;43;01mNone\u001b[39;49;00m\u001b[43m)\u001b[49m\u001b[43m,\u001b[49m\n\u001b[0;32m   1885\u001b[0m \u001b[43m    \u001b[49m\u001b[43mmemory_map\u001b[49m\u001b[38;5;241;43m=\u001b[39;49m\u001b[38;5;28;43mself\u001b[39;49m\u001b[38;5;241;43m.\u001b[39;49m\u001b[43moptions\u001b[49m\u001b[38;5;241;43m.\u001b[39;49m\u001b[43mget\u001b[49m\u001b[43m(\u001b[49m\u001b[38;5;124;43m\"\u001b[39;49m\u001b[38;5;124;43mmemory_map\u001b[39;49m\u001b[38;5;124;43m\"\u001b[39;49m\u001b[43m,\u001b[49m\u001b[43m \u001b[49m\u001b[38;5;28;43;01mFalse\u001b[39;49;00m\u001b[43m)\u001b[49m\u001b[43m,\u001b[49m\n\u001b[0;32m   1886\u001b[0m \u001b[43m    \u001b[49m\u001b[43mis_text\u001b[49m\u001b[38;5;241;43m=\u001b[39;49m\u001b[43mis_text\u001b[49m\u001b[43m,\u001b[49m\n\u001b[0;32m   1887\u001b[0m \u001b[43m    \u001b[49m\u001b[43merrors\u001b[49m\u001b[38;5;241;43m=\u001b[39;49m\u001b[38;5;28;43mself\u001b[39;49m\u001b[38;5;241;43m.\u001b[39;49m\u001b[43moptions\u001b[49m\u001b[38;5;241;43m.\u001b[39;49m\u001b[43mget\u001b[49m\u001b[43m(\u001b[49m\u001b[38;5;124;43m\"\u001b[39;49m\u001b[38;5;124;43mencoding_errors\u001b[39;49m\u001b[38;5;124;43m\"\u001b[39;49m\u001b[43m,\u001b[49m\u001b[43m \u001b[49m\u001b[38;5;124;43m\"\u001b[39;49m\u001b[38;5;124;43mstrict\u001b[39;49m\u001b[38;5;124;43m\"\u001b[39;49m\u001b[43m)\u001b[49m\u001b[43m,\u001b[49m\n\u001b[0;32m   1888\u001b[0m \u001b[43m    \u001b[49m\u001b[43mstorage_options\u001b[49m\u001b[38;5;241;43m=\u001b[39;49m\u001b[38;5;28;43mself\u001b[39;49m\u001b[38;5;241;43m.\u001b[39;49m\u001b[43moptions\u001b[49m\u001b[38;5;241;43m.\u001b[39;49m\u001b[43mget\u001b[49m\u001b[43m(\u001b[49m\u001b[38;5;124;43m\"\u001b[39;49m\u001b[38;5;124;43mstorage_options\u001b[39;49m\u001b[38;5;124;43m\"\u001b[39;49m\u001b[43m,\u001b[49m\u001b[43m \u001b[49m\u001b[38;5;28;43;01mNone\u001b[39;49;00m\u001b[43m)\u001b[49m\u001b[43m,\u001b[49m\n\u001b[0;32m   1889\u001b[0m \u001b[43m\u001b[49m\u001b[43m)\u001b[49m\n\u001b[0;32m   1890\u001b[0m \u001b[38;5;28;01massert\u001b[39;00m \u001b[38;5;28mself\u001b[39m\u001b[38;5;241m.\u001b[39mhandles \u001b[38;5;129;01mis\u001b[39;00m \u001b[38;5;129;01mnot\u001b[39;00m \u001b[38;5;28;01mNone\u001b[39;00m\n\u001b[0;32m   1891\u001b[0m f \u001b[38;5;241m=\u001b[39m \u001b[38;5;28mself\u001b[39m\u001b[38;5;241m.\u001b[39mhandles\u001b[38;5;241m.\u001b[39mhandle\n",
      "File \u001b[1;32mc:\\Users\\PSID_PC_20\\anaconda3\\envs\\SMR\\lib\\site-packages\\pandas\\io\\common.py:873\u001b[0m, in \u001b[0;36mget_handle\u001b[1;34m(path_or_buf, mode, encoding, compression, memory_map, is_text, errors, storage_options)\u001b[0m\n\u001b[0;32m    868\u001b[0m \u001b[38;5;28;01melif\u001b[39;00m \u001b[38;5;28misinstance\u001b[39m(handle, \u001b[38;5;28mstr\u001b[39m):\n\u001b[0;32m    869\u001b[0m     \u001b[38;5;66;03m# Check whether the filename is to be opened in binary mode.\u001b[39;00m\n\u001b[0;32m    870\u001b[0m     \u001b[38;5;66;03m# Binary mode does not support 'encoding' and 'newline'.\u001b[39;00m\n\u001b[0;32m    871\u001b[0m     \u001b[38;5;28;01mif\u001b[39;00m ioargs\u001b[38;5;241m.\u001b[39mencoding \u001b[38;5;129;01mand\u001b[39;00m \u001b[38;5;124m\"\u001b[39m\u001b[38;5;124mb\u001b[39m\u001b[38;5;124m\"\u001b[39m \u001b[38;5;129;01mnot\u001b[39;00m \u001b[38;5;129;01min\u001b[39;00m ioargs\u001b[38;5;241m.\u001b[39mmode:\n\u001b[0;32m    872\u001b[0m         \u001b[38;5;66;03m# Encoding\u001b[39;00m\n\u001b[1;32m--> 873\u001b[0m         handle \u001b[38;5;241m=\u001b[39m \u001b[38;5;28;43mopen\u001b[39;49m\u001b[43m(\u001b[49m\n\u001b[0;32m    874\u001b[0m \u001b[43m            \u001b[49m\u001b[43mhandle\u001b[49m\u001b[43m,\u001b[49m\n\u001b[0;32m    875\u001b[0m \u001b[43m            \u001b[49m\u001b[43mioargs\u001b[49m\u001b[38;5;241;43m.\u001b[39;49m\u001b[43mmode\u001b[49m\u001b[43m,\u001b[49m\n\u001b[0;32m    876\u001b[0m \u001b[43m            \u001b[49m\u001b[43mencoding\u001b[49m\u001b[38;5;241;43m=\u001b[39;49m\u001b[43mioargs\u001b[49m\u001b[38;5;241;43m.\u001b[39;49m\u001b[43mencoding\u001b[49m\u001b[43m,\u001b[49m\n\u001b[0;32m    877\u001b[0m \u001b[43m            \u001b[49m\u001b[43merrors\u001b[49m\u001b[38;5;241;43m=\u001b[39;49m\u001b[43merrors\u001b[49m\u001b[43m,\u001b[49m\n\u001b[0;32m    878\u001b[0m \u001b[43m            \u001b[49m\u001b[43mnewline\u001b[49m\u001b[38;5;241;43m=\u001b[39;49m\u001b[38;5;124;43m\"\u001b[39;49m\u001b[38;5;124;43m\"\u001b[39;49m\u001b[43m,\u001b[49m\n\u001b[0;32m    879\u001b[0m \u001b[43m        \u001b[49m\u001b[43m)\u001b[49m\n\u001b[0;32m    880\u001b[0m     \u001b[38;5;28;01melse\u001b[39;00m:\n\u001b[0;32m    881\u001b[0m         \u001b[38;5;66;03m# Binary mode\u001b[39;00m\n\u001b[0;32m    882\u001b[0m         handle \u001b[38;5;241m=\u001b[39m \u001b[38;5;28mopen\u001b[39m(handle, ioargs\u001b[38;5;241m.\u001b[39mmode)\n",
      "\u001b[1;31mFileNotFoundError\u001b[0m: [Errno 2] No such file or directory: './xrddata_GCMC_merged_coremof[all].csv'"
     ]
    }
   ],
   "source": [
    "## GCMC데이터랑 병합하기\n",
    "df = pd.read_csv(\"./xrddata_GCMC_merged_coremof[all].csv\")\n",
    "coremof_uptakes = df[['coremof', 'O2_20C_0.5bar', 'O2_20C_1bar', 'O2_20C_5bar', 'O2_20C_15bar']]\n",
    "# for key in henry_coeffs.keys():\n",
    "#     henry_coeffs[key]  =float(henry_coeffs[key].split(\" +/- \")[0])\n",
    "# merged_data = pd.merge(coremof_uptakes, henry_df, how = \"inner\", left_on = \"coremof\", right_on = \"MOFS\")\n",
    "# merged_data[['O2_20C_0.5bar', 'O2_20C_1bar', 'O2_20C_5bar',\n",
    "#        'O2_20C_15bar', 'henry_coeff']].corr()\n",
    "# merged_data[\"henry_logged\"] = np.log10(merged_data[\"henry_coeff\"])\n",
    "# ## XRD PCA데이터 가져오기\n",
    "# with open(\"./DATA2.pickle\", \"rb\") as f:\n",
    "#     DATA2_PCA  = pickle.load(f)\n",
    "# DATA2_PCA\n",
    "# PCA_DATA = pd.concat([df[\"coremof\"], DATA2_PCA ] , axis = 1)\n",
    "# PCA_HENRY_UPTAKE_DESCRIPTER_DF = pd.merge(PCA_DATA,merged_data , how = \"inner\", left_on = \"coremof\", right_on = \"coremof\").drop(\"MOFS\", axis = 1)\n",
    "\n",
    "# ## 헨리상수, XRD만 가지고 15바 흡착량 예측하는 데이터셋 만들기\n",
    "# O2_20C_15bar = PCA_HENRY_UPTAKE_DESCRIPTER_DF[\"O2_20C_15bar_x\"]\n",
    "# PCA_HENRY_UPTAKE_DESCRIPTER_DF = PCA_HENRY_UPTAKE_DESCRIPTER_DF.drop([\"O2_20C_15bar_x\",\"O2_20C_15bar_y\" ], axis =1)\n",
    "# PCA_HENRY_UPTAKE_DESCRIPTER_DF = PCA_HENRY_UPTAKE_DESCRIPTER_DF.drop([\"O2_20C_1bar\",\"O2_20C_5bar\",\"O2_20C_0.5bar\" ], axis =1)\n",
    "# PCA_HENRY_UPTAKE_DESCRIPTER_DF[\"O2_20C_15bar\"] = O2_20C_15bar\n",
    "# PCA_HENRY_UPTAKE_DESCRIPTER_DF"
   ]
  }
 ],
 "metadata": {
  "kernelspec": {
   "display_name": "SMR",
   "language": "python",
   "name": "python3"
  },
  "language_info": {
   "codemirror_mode": {
    "name": "ipython",
    "version": 3
   },
   "file_extension": ".py",
   "mimetype": "text/x-python",
   "name": "python",
   "nbconvert_exporter": "python",
   "pygments_lexer": "ipython3",
   "version": "3.9.19"
  }
 },
 "nbformat": 4,
 "nbformat_minor": 2
}
