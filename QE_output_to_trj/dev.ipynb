{
 "cells": [
  {
   "cell_type": "code",
   "execution_count": 1,
   "metadata": {},
   "outputs": [],
   "source": [
    "import os "
   ]
  },
  {
   "cell_type": "code",
   "execution_count": null,
   "metadata": {},
   "outputs": [
    {
     "name": "stdout",
     "output_type": "stream",
     "text": [
      "Zn              -1.0735556570        1.0841422360        1.1977635690    0   0   0\n",
      "Zn              -5.3630098694        0.0406603226        3.2619954316\n",
      "Zn              -1.6915203730        3.6244172340        1.1977635690    0   0   0\n",
      "Zn              -5.9809748739        2.5809351951        3.2619954385\n",
      "Zn               4.4565957100        1.0841422360        1.1977635690    0   0   0\n",
      "Zn               0.1663199215        0.0404601119        3.2618980616\n",
      "Zn               3.8386309950        3.6244172340        1.1977635690    0   0   0\n",
      "Zn              -0.4516448567        2.5807354916        3.2618979854\n",
      "Zn               1.6915202950        0.4114908680        0.8555452660    0   0   0\n",
      "Zn              -2.5994675531       -0.6323642161        2.9173860528\n",
      "Zn               1.0735555790        2.9517658660        0.8555452660    0   0   0\n",
      "Zn              -3.2174323570        1.9079108491        2.9173859410\n",
      "Zn               7.2216716620        0.4114908680        0.8555452660    0   0   0\n",
      "Zn               2.9300856570       -0.6325097140        2.9176051177\n",
      "Zn               6.6037069470        2.9517658660        0.8555452660    0   0   0\n",
      "Zn               2.3121210658        1.9077653021        2.9176052216\n"
     ]
    }
   ],
   "source": [
    "start_str = \"ATOMIC_POSITIONS (angstrom)\\n\"\n",
    "\n",
    "with open(\"./example.out\", \"r\") as f:\n",
    "    content = f.read()\n",
    "\n",
    "indices = []\n",
    "start = 0\n",
    "\n",
    "while True:\n",
    "    start = content.find(start_str, start)\n",
    "    if start == -1:\n",
    "        break\n",
    "    start += len(start_str)  # 문자열 끝에서 시작\n",
    "\n",
    "    # 원자 좌표 데이터가 끝나는 지점을 찾기 (빈 줄 기준)\n",
    "    end = content.find(\"\\n\\n\", start)  # 빈 줄이 나타나는 첫 번째 위치 찾기\n",
    "    if end == -1:  # 만약 빈 줄이 없다면, 파일 끝까지 가져옴\n",
    "        end = len(content)\n",
    "    indices.append((start, end))\n",
    "    start = end  # 다음 검색을 위해 end 이후로 이동\n",
    "\n",
    "# 첫 번째 찾은 원자 좌표 블록 출력\n",
    "if indices:\n",
    "    print(content[indices[0][0]: indices[0][1]])\n"
   ]
  },
  {
   "cell_type": "code",
   "execution_count": null,
   "metadata": {},
   "outputs": [
    {
     "name": "stdout",
     "output_type": "stream",
     "text": [
      "Zn              -1.0735556570        1.0841422360        1.1977635690    0   0   0\n",
      "Zn              -5.3630098694        0.0406603226        3.2619954316\n",
      "Zn              -1.6915203730        3.6244172340        1.1977635690    0   0   0\n",
      "Zn              -5.9809748739        2.5809351951        3.2619954385\n",
      "Zn               4.4565957100        1.0841422360        1.1977635690    0   0   0\n",
      "Zn               0.1663199215        0.0404601119        3.2618980616\n",
      "Zn               3.8386309950        3.6244172340        1.1977635690    0   0   0\n",
      "Zn              -0.4516448567        2.5807354916        3.2618979854\n",
      "Zn               1.6915202950        0.4114908680        0.8555452660    0   0   0\n",
      "Zn              -2.5994675531       -0.6323642161        2.9173860528\n",
      "Zn               1.0735555790        2.9517658660        0.8555452660    0   0   0\n",
      "Zn              -3.2174323570        1.9079108491        2.9173859410\n",
      "Zn               7.2216716620        0.4114908680        0.8555452660    0   0   0\n",
      "Zn               2.9300856570       -0.6325097140        2.9176051177\n",
      "Zn               6.6037069470        2.9517658660        0.8555452660    0   0   0\n",
      "Zn               2.3121210658        1.9077653021        2.9176052216\n"
     ]
    }
   ],
   "source": [
    "import sys\n",
    "import os\n",
    "\n",
    "def extract_atomic_positions(file_path):\n",
    "    start_str = \"ATOMIC_POSITIONS (angstrom)\\n\"\n",
    "    \n",
    "    with open(file_path, \"r\") as f:\n",
    "        content = f.read()\n",
    "\n",
    "    indices = []\n",
    "    start = 0\n",
    "\n",
    "    while True:\n",
    "        start = content.find(start_str, start)\n",
    "        if start == -1:\n",
    "            break\n",
    "        start += len(start_str)\n",
    "        \n",
    "        end = content.find(\"\\n\\n\", start)\n",
    "        if end == -1:\n",
    "            end = len(content)\n",
    "        indices.append((start, end))\n",
    "        start = end\n",
    "\n",
    "    # Extract first atomic position block\n",
    "    if indices:\n",
    "        return content[indices[0][0]: indices[0][1]].strip()\n",
    "    else:\n",
    "        return None\n",
    "\n",
    "def write_trj_file(atomic_positions, output_file):\n",
    "    with open(output_file, \"w\") as f:\n",
    "        lines = atomic_positions.split(\"\\n\")\n",
    "        f.write(str(len(lines)) + \"\\n\")\n",
    "        f.write(\"# VMD trajectory file\\n\")\n",
    "        for line in lines:\n",
    "            f.write(line + \"\\n\")\n",
    "\n",
    "def main():\n",
    "    if len(sys.argv) < 2:\n",
    "        print(\"Usage: python script.py <input_file>\")\n",
    "        sys.exit(1)\n",
    "    \n",
    "    input_file = sys.argv[1]\n",
    "    if not os.path.exists(input_file):\n",
    "        print(\"Error: File not found!\")\n",
    "        sys.exit(1)\n",
    "    \n",
    "    atomic_positions = extract_atomic_positions(input_file)\n",
    "    if atomic_positions:\n",
    "        output_file = os.path.splitext(input_file)[0] + \".trj\"\n",
    "        write_trj_file(atomic_positions, output_file)\n",
    "        print(f\"Output written to {output_file}\")\n",
    "    else:\n",
    "        print(\"Error: No atomic positions found in the file!\")\n",
    "\n",
    "if __name__ == \"__main__\":\n",
    "    main()\n"
   ]
  },
  {
   "cell_type": "code",
   "execution_count": 11,
   "metadata": {},
   "outputs": [
    {
     "data": {
      "text/plain": [
       "168291"
      ]
     },
     "execution_count": 11,
     "metadata": {},
     "output_type": "execute_result"
    }
   ],
   "source": [
    "indices[0][1]"
   ]
  },
  {
   "cell_type": "code",
   "execution_count": null,
   "metadata": {},
   "outputs": [],
   "source": [
    "def find_all_occurrences(filename, search_string):\n",
    "    \n",
    "\n",
    "    return indices\n",
    "\n",
    "# 사용 예시\n",
    "filename = \"example.txt\"\n",
    "search_string = \"target\"\n",
    "indices = find_all_occurrences(filename, search_string)\n",
    "\n",
    "print(indices)  # 예: [10, 45, 89, ...]\n"
   ]
  }
 ],
 "metadata": {
  "kernelspec": {
   "display_name": "python39",
   "language": "python",
   "name": "python3"
  },
  "language_info": {
   "codemirror_mode": {
    "name": "ipython",
    "version": 3
   },
   "file_extension": ".py",
   "mimetype": "text/x-python",
   "name": "python",
   "nbconvert_exporter": "python",
   "pygments_lexer": "ipython3",
   "version": "3.9.19"
  }
 },
 "nbformat": 4,
 "nbformat_minor": 2
}
